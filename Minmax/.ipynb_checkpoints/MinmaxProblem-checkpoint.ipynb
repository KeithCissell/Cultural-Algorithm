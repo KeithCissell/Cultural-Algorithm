{
 "cells": [
  {
   "cell_type": "code",
   "execution_count": 26,
   "metadata": {
    "collapsed": true
   },
   "outputs": [],
   "source": [
    "import random\n",
    "import matplotlib.pyplot as plt"
   ]
  },
  {
   "cell_type": "code",
   "execution_count": 27,
   "metadata": {
    "collapsed": true
   },
   "outputs": [],
   "source": [
    "def objective_function(vector):\n",
    "    v = 0.0\n",
    "    for i in vector:\n",
    "        v = v + i ** 2.0\n",
    "    return v"
   ]
  },
  {
   "cell_type": "code",
   "execution_count": 28,
   "metadata": {
    "collapsed": true
   },
   "outputs": [],
   "source": [
    "def rand_in_bounds(min, max):\n",
    "    return min + ((max-min) * random.random())"
   ]
  },
  {
   "cell_type": "code",
   "execution_count": 29,
   "metadata": {
    "collapsed": true
   },
   "outputs": [],
   "source": [
    "def random_vector(minmax):\n",
    "    vector = list()\n",
    "    for i in range(len(minmax)):\n",
    "        rand = rand_in_bounds(minmax[i][0], minmax[i][1])\n",
    "        vector.append(rand)\n",
    "    return vector"
   ]
  },
  {
   "cell_type": "code",
   "execution_count": 30,
   "metadata": {
    "collapsed": true
   },
   "outputs": [],
   "source": [
    "def mutate_with_inf(candidate, beliefs, minmax):\n",
    "    v = list()\n",
    "    for i in range(len(candidate[\"vector\"])):\n",
    "        x = rand_in_bounds(beliefs[\"normative\"][i][0], beliefs[\"normative\"][i][1])\n",
    "        if x < minmax[i][0]: x = minmax[i][0]\n",
    "        if x > minmax[i][1]: x = minmax[i][1]\n",
    "        v.append(x)\n",
    "    return {\"vector\": v}"
   ]
  },
  {
   "cell_type": "code",
   "execution_count": 31,
   "metadata": {
    "collapsed": true
   },
   "outputs": [],
   "source": [
    "def binary_tournament(population):\n",
    "    i = random.randint(0, len(population)-1)\n",
    "    j = random.randint(0, len(population)-1)\n",
    "    while j == i:\n",
    "        j = random.randint(0, len(population)-1)\n",
    "    return population[i] if (population[i][\"fitness\"] < population[j][\"fitness\"]) else population[j]"
   ]
  },
  {
   "cell_type": "code",
   "execution_count": 32,
   "metadata": {
    "collapsed": true
   },
   "outputs": [],
   "source": [
    "def initialize_population(pop_size, search_space):\n",
    "    population = list()\n",
    "    for i in range(pop_size):\n",
    "        d = {\"vector\": random_vector(search_space)}\n",
    "        population.append(d)\n",
    "    return population"
   ]
  },
  {
   "cell_type": "code",
   "execution_count": 33,
   "metadata": {
    "collapsed": true
   },
   "outputs": [],
   "source": [
    "def initialize_beliefspace(search_space):\n",
    "    belief_space = {}\n",
    "    belief_space[\"situational\"] = None\n",
    "    belief_space[\"normative\"] = list()\n",
    "    for i in range(len(search_space)):\n",
    "        belief_space[\"normative\"].append(list(search_space[i]))\n",
    "    return belief_space"
   ]
  },
  {
   "cell_type": "code",
   "execution_count": 34,
   "metadata": {
    "collapsed": true
   },
   "outputs": [],
   "source": [
    "def update_beliefspace_situational(belief_space, best):\n",
    "    curr_best = belief_space[\"situational\"]\n",
    "    if curr_best is None or best[\"fitness\"] < curr_best[\"fitness\"]:\n",
    "        belief_space[\"situational\"] = best"
   ]
  },
  {
   "cell_type": "code",
   "execution_count": 35,
   "metadata": {
    "collapsed": true
   },
   "outputs": [],
   "source": [
    "def update_beliefspace_normative(belief_space, acc):\n",
    "    for i in range(len(belief_space[\"normative\"])):\n",
    "        acc_min = min(acc, key = lambda v: v[\"vector\"][i])\n",
    "        belief_space[\"normative\"][i][0] = acc_min[\"vector\"][i]\n",
    "        acc_max = max(acc, key = lambda v: v[\"vector\"][i])\n",
    "        belief_space[\"normative\"][i][1] = acc_max[\"vector\"][i]"
   ]
  },
  {
   "cell_type": "code",
   "execution_count": 42,
   "metadata": {
    "collapsed": true
   },
   "outputs": [],
   "source": [
    "def search(max_gens, search_space, pop_size, num_accepted):\n",
    "    # initialize\n",
    "    population = initialize_population(pop_size, search_space)\n",
    "    belief_space = initialize_beliefspace(search_space)\n",
    "    fitness_data = list()\n",
    "    \n",
    "    # evaluate\n",
    "    for c in population:\n",
    "        c[\"fitness\"] = objective_function(c[\"vector\"])\n",
    "    best = min(population, key = lambda c: c[\"fitness\"])\n",
    "    \n",
    "    # update situational knowledge\n",
    "    update_beliefspace_situational(belief_space, best)\n",
    "    \n",
    "    # add situational_belief to fitness_data\n",
    "    fitness_data.append(best[\"fitness\"])\n",
    "    \n",
    "    # evolution:\n",
    "    for gen in range(max_gens):\n",
    "        # create next generation\n",
    "        children = list()\n",
    "        for c in range(pop_size):\n",
    "            new_child = mutate_with_inf(population[c], belief_space, search_space)\n",
    "            children.append(new_child)\n",
    "\n",
    "        # evaluate\n",
    "        for c in children:\n",
    "            c[\"fitness\"] = objective_function(c[\"vector\"])\n",
    "        best = min(population, key = lambda c: c[\"fitness\"])\n",
    "        \n",
    "        # update situational knowledge\n",
    "        update_beliefspace_situational(belief_space, best)\n",
    "        \n",
    "        # add situational_belief to fitness_data\n",
    "        fitness_data.append(best[\"fitness\"])\n",
    "        \n",
    "        # select next generation\n",
    "        new_population = list()\n",
    "        for i in range(pop_size):\n",
    "            survivor = binary_tournament(children + population)\n",
    "            new_population.append(survivor)\n",
    "        population = new_population\n",
    "        \n",
    "        # update normative knowledge\n",
    "        population.sort(key = lambda c: c[\"fitness\"])\n",
    "        acccepted = population[:num_accepted]\n",
    "        update_beliefspace_normative(belief_space, acccepted)\n",
    "        \n",
    "        # user feedback\n",
    "#         if gen % 10 == 0:\n",
    "#             curr_best_fitness = belief_space[\"situational\"][\"fitness\"]\n",
    "#             print(\" > generation= \" + str(gen) + \", f= \" + str(curr_best_fitness))\n",
    "            \n",
    "    return belief_space[\"situational\"], fitness_data"
   ]
  },
  {
   "cell_type": "code",
   "execution_count": 53,
   "metadata": {
    "collapsed": true
   },
   "outputs": [],
   "source": [
    "def plot_fitness(data):\n",
    "    x = list(range(len(data)))\n",
    "    y = data\n",
    "    plt.plot(x, y)\n",
    "    plt.show()"
   ]
  },
  {
   "cell_type": "code",
   "execution_count": 65,
   "metadata": {},
   "outputs": [
    {
     "name": "stdout",
     "output_type": "stream",
     "text": [
      "done! Solution: f= 0.26842018258394135, s= [-0.055872973759683746, 0.1346576679353104, 0.005061132809341611, -0.10432299260849932, -0.09036365814029798, -0.12049840489969839, 0.2494877225257046, 0.11506292668746501, 0.014253720874231577, 0.3713281276145549]\n"
     ]
    },
    {
     "data": {
      "image/png": "[encoded data removed]",
      "text/plain": [
       "<matplotlib.figure.Figure at 0x2279bafa0f0>"
      ]
     },
     "metadata": {},
     "output_type": "display_data"
    }
   ],
   "source": [
    "if __name__ == \"__main__\":\n",
    "    # problem configuration\n",
    "    problem_size = 10\n",
    "    search_space = list()\n",
    "    for i in range(problem_size):\n",
    "      search_space.append([-5, 5])\n",
    "    \n",
    "    # algorithm configuration\n",
    "    max_gens = 50\n",
    "    pop_size = 50\n",
    "    num_accepted = round(pop_size * 0.20)\n",
    "    \n",
    "    # execute the algorithm\n",
    "    best, fitness_data = search(max_gens, search_space, pop_size, num_accepted)\n",
    "    best_fitness = best[\"fitness\"]\n",
    "    best_vector = best[\"vector\"]\n",
    "    print(\"done! Solution: f= \" + str(best_fitness) + \", s= \" + str(best_vector))\n",
    "    plot_fitness(fitness_data)"
   ]
  },
  {
   "cell_type": "code",
   "execution_count": null,
   "metadata": {
    "collapsed": true
   },
   "outputs": [],
   "source": []
  }
 ],
 "metadata": {
  "kernelspec": {
   "display_name": "Python [conda root]",
   "language": "python",
   "name": "conda-root-py"
  },
  "language_info": {
   "codemirror_mode": {
    "name": "ipython",
    "version": 3
   },
   "file_extension": ".py",
   "mimetype": "text/x-python",
   "name": "python",
   "nbconvert_exporter": "python",
   "pygments_lexer": "ipython3",
   "version": "3.5.3"
  }
 },
 "nbformat": 4,
 "nbformat_minor": 2
}
