{
 "cells": [
  {
   "cell_type": "code",
   "execution_count": 280,
   "metadata": {
    "collapsed": true
   },
   "outputs": [],
   "source": [
    "import random"
   ]
  },
  {
   "cell_type": "code",
   "execution_count": 281,
   "metadata": {
    "collapsed": true
   },
   "outputs": [],
   "source": [
    "def objective_function(vector):\n",
    "    v = 0.0\n",
    "    for i in vector:\n",
    "        v = v + i ** 2.0\n",
    "    return v"
   ]
  },
  {
   "cell_type": "code",
   "execution_count": 282,
   "metadata": {
    "collapsed": true
   },
   "outputs": [],
   "source": [
    "def rand_in_bounds(min, max):\n",
    "    return min + ((max-min) * random.random())"
   ]
  },
  {
   "cell_type": "code",
   "execution_count": 283,
   "metadata": {
    "collapsed": true
   },
   "outputs": [],
   "source": [
    "def random_vector(minmax):\n",
    "    vector = list()\n",
    "    for i in range(len(minmax)):\n",
    "        rand = rand_in_bounds(minmax[i][0], minmax[i][1])\n",
    "        vector.append(rand)\n",
    "    return vector"
   ]
  },
  {
   "cell_type": "code",
   "execution_count": 284,
   "metadata": {},
   "outputs": [],
   "source": [
    "def mutate_with_inf(candidate, beliefs, minmax):\n",
    "    v = list()\n",
    "    for i in range(len(candidate[\"vector\"])):\n",
    "        x = rand_in_bounds(beliefs[\"normative\"][i][0], beliefs[\"normative\"][i][1])\n",
    "        if x < minmax[i][0]: x = minmax[i][0]\n",
    "        if x > minmax[i][1]: x = minmax[i][1]\n",
    "        v.append(x)\n",
    "    return {\"vector\": v}"
   ]
  },
  {
   "cell_type": "code",
   "execution_count": 285,
   "metadata": {
    "collapsed": true
   },
   "outputs": [],
   "source": [
    "def binary_tournament(population):\n",
    "    i = random.randint(0, len(population)-1)\n",
    "    j = random.randint(0, len(population)-1)\n",
    "    while j == i:\n",
    "        j = random.randint(0, len(population)-1)\n",
    "    return population[i] if (population[i][\"fitness\"] < population[j][\"fitness\"]) else population[j]"
   ]
  },
  {
   "cell_type": "code",
   "execution_count": 286,
   "metadata": {
    "collapsed": true
   },
   "outputs": [],
   "source": [
    "def initialize_population(pop_size, search_space):\n",
    "    population = list()\n",
    "    for i in range(pop_size):\n",
    "        d = {\"vector\": random_vector(search_space)}\n",
    "        population.append(d)\n",
    "    return population"
   ]
  },
  {
   "cell_type": "code",
   "execution_count": 287,
   "metadata": {
    "collapsed": true
   },
   "outputs": [],
   "source": [
    "def initialize_beliefspace(search_space):\n",
    "    belief_space = {}\n",
    "    belief_space[\"situational\"] = None\n",
    "    belief_space[\"normative\"] = list()\n",
    "    for i in range(len(search_space)):\n",
    "        belief_space[\"normative\"].append(list(search_space[i]))\n",
    "    return belief_space"
   ]
  },
  {
   "cell_type": "code",
   "execution_count": 288,
   "metadata": {},
   "outputs": [],
   "source": [
    "def update_beliefspace_situational(belief_space, best):\n",
    "    curr_best = belief_space[\"situational\"]\n",
    "    if curr_best is None or best[\"fitness\"] < curr_best[\"fitness\"]:\n",
    "        belief_space[\"situational\"] = best"
   ]
  },
  {
   "cell_type": "code",
   "execution_count": 289,
   "metadata": {
    "collapsed": true
   },
   "outputs": [],
   "source": [
    "def update_beliefspace_normative(belief_space, acc):\n",
    "    for i in range(len(belief_space[\"normative\"])):\n",
    "        acc_min = min(acc, key = lambda v: v[\"vector\"][i])\n",
    "        belief_space[\"normative\"][i][0] = acc_min[\"vector\"][i]\n",
    "        acc_max = max(acc, key = lambda v: v[\"vector\"][i])\n",
    "        belief_space[\"normative\"][i][1] = acc_max[\"vector\"][i]"
   ]
  },
  {
   "cell_type": "code",
   "execution_count": 298,
   "metadata": {},
   "outputs": [],
   "source": [
    "def search(max_gens, search_space, pop_size, num_accepted):\n",
    "    # initialize\n",
    "    population = initialize_population(pop_size, search_space)\n",
    "    belief_space = initialize_beliefspace(search_space)\n",
    "    # evaluate\n",
    "    for c in population:\n",
    "        c[\"fitness\"] = objective_function(c[\"vector\"])\n",
    "    best = min(population, key = lambda c: c[\"fitness\"])\n",
    "    # update situational knowledge\n",
    "    update_beliefspace_situational(belief_space, best)\n",
    "    \n",
    "    # evolution:\n",
    "    for gen in range(max_gens):\n",
    "        # create next generation\n",
    "        children = list()\n",
    "        for c in range(pop_size):\n",
    "            new_child = mutate_with_inf(population[c], belief_space, search_space)\n",
    "            children.append(new_child)\n",
    "\n",
    "        # evaluate\n",
    "        for c in children:\n",
    "            c[\"fitness\"] = objective_function(c[\"vector\"])\n",
    "        best = min(population, key = lambda c: c[\"fitness\"])\n",
    "        # update situational knowledge\n",
    "        update_beliefspace_situational(belief_space, best)\n",
    "        # select next generation\n",
    "        new_population = list()\n",
    "        for i in range(pop_size):\n",
    "            survivor = binary_tournament(children + population)\n",
    "            new_population.append(survivor)\n",
    "        population = new_population\n",
    "        # update normative knowledge\n",
    "        population.sort(key = lambda c: c[\"fitness\"])\n",
    "        acccepted = population[:num_accepted]\n",
    "        update_beliefspace_normative(belief_space, acccepted)\n",
    "        # user feedback\n",
    "        if gen % 10 == 0:\n",
    "            curr_best_fitness = belief_space[\"situational\"][\"fitness\"]\n",
    "            print(\" > generation= \" + str(gen) + \", f= \" + str(curr_best_fitness))\n",
    "    return belief_space[\"situational\"]"
   ]
  },
  {
   "cell_type": "code",
   "execution_count": 299,
   "metadata": {},
   "outputs": [
    {
     "name": "stdout",
     "output_type": "stream",
     "text": [
      " > generation= 0, f= 0.12204028992908587\n",
      " > generation= 10, f= 2.939539185795402e-09\n",
      " > generation= 20, f= 4.086836228709538e-17\n",
      " > generation= 30, f= 2.3062243092657367e-26\n",
      " > generation= 40, f= 2.8171245842221893e-34\n",
      " > generation= 50, f= 4.753927143702643e-42\n",
      " > generation= 60, f= 2.82946986474317e-51\n",
      " > generation= 70, f= 1.6344524857217092e-59\n",
      " > generation= 80, f= 2.179030269133287e-68\n",
      " > generation= 90, f= 1.0531637574691639e-75\n",
      " > generation= 100, f= 1.5141849266844283e-84\n",
      " > generation= 110, f= 2.6035317857188583e-92\n",
      " > generation= 120, f= 2.8980874078065247e-102\n",
      " > generation= 130, f= 1.7403361394680776e-109\n",
      " > generation= 140, f= 1.8803250009926056e-117\n",
      " > generation= 150, f= 2.939826852253834e-127\n",
      " > generation= 160, f= 2.080657645155957e-136\n",
      " > generation= 170, f= 1.3158282539914973e-143\n",
      " > generation= 180, f= 3.646233906188721e-153\n",
      " > generation= 190, f= 6.076250387339539e-161\n",
      "done! Solution: f= 1.7299126132291833e-168, s= [7.087207121244804e-85, -1.1079835582872847e-84]\n"
     ]
    }
   ],
   "source": [
    "if __name__ == \"__main__\":\n",
    "    # problem configuration\n",
    "    problem_size = 2\n",
    "    search_space = list()\n",
    "    for i in range(problem_size):\n",
    "      search_space.append([-5, 5])\n",
    "    # algorithm configuration\n",
    "    max_gens = 200\n",
    "    pop_size = 100\n",
    "    num_accepted = round(pop_size * 0.20)\n",
    "    # execute the algorithm\n",
    "    best = search(max_gens, search_space, pop_size, num_accepted)\n",
    "    best_fitness = best[\"fitness\"]\n",
    "    best_vector = best[\"vector\"]\n",
    "    print(\"done! Solution: f= \" + str(best_fitness) + \", s= \" + str(best_vector))"
   ]
  },
  {
   "cell_type": "code",
   "execution_count": null,
   "metadata": {
    "collapsed": true
   },
   "outputs": [],
   "source": []
  }
 ],
 "metadata": {
  "kernelspec": {
   "display_name": "Python [conda root]",
   "language": "python",
   "name": "conda-root-py"
  },
  "language_info": {
   "codemirror_mode": {
    "name": "ipython",
    "version": 3
   },
   "file_extension": ".py",
   "mimetype": "text/x-python",
   "name": "python",
   "nbconvert_exporter": "python",
   "pygments_lexer": "ipython3",
   "version": "3.5.3"
  }
 },
 "nbformat": 4,
 "nbformat_minor": 2
}
