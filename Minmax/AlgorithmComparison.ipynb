{
 "cells": [
  {
   "cell_type": "code",
   "execution_count": 294,
   "metadata": {
    "collapsed": true
   },
   "outputs": [],
   "source": [
    "import random\n",
    "import matplotlib.pyplot as plt"
   ]
  },
  {
   "cell_type": "code",
   "execution_count": 295,
   "metadata": {
    "collapsed": true
   },
   "outputs": [],
   "source": [
    "def objective_function(vector):\n",
    "    v = 0.0\n",
    "    for i in vector:\n",
    "        v = v + i ** 2.0\n",
    "    return v"
   ]
  },
  {
   "cell_type": "code",
   "execution_count": 296,
   "metadata": {
    "collapsed": true
   },
   "outputs": [],
   "source": [
    "def create_search_space(problem_size):\n",
    "    ss = list()\n",
    "    for i in range(problem_size):\n",
    "        ss.append([-5, 5])\n",
    "    return ss"
   ]
  },
  {
   "cell_type": "code",
   "execution_count": 297,
   "metadata": {
    "collapsed": true
   },
   "outputs": [],
   "source": [
    "def rand_in_bounds(min, max):\n",
    "    return min + ((max-min) * random.random())"
   ]
  },
  {
   "cell_type": "code",
   "execution_count": 298,
   "metadata": {
    "collapsed": true
   },
   "outputs": [],
   "source": [
    "def random_vector(minmax):\n",
    "    vector = list()\n",
    "    for i in range(len(minmax)):\n",
    "        rand = rand_in_bounds(minmax[i][0], minmax[i][1])\n",
    "        vector.append(rand)\n",
    "    return vector"
   ]
  },
  {
   "cell_type": "code",
   "execution_count": 299,
   "metadata": {
    "collapsed": true
   },
   "outputs": [],
   "source": [
    "def mutate_with_inf(candidate, beliefs, minmax):\n",
    "    v = list()\n",
    "    for i in range(len(candidate[\"vector\"])):\n",
    "        x = rand_in_bounds(beliefs[\"normative\"][i][0], beliefs[\"normative\"][i][1])\n",
    "        if x < minmax[i][0]: x = minmax[i][0]\n",
    "        if x > minmax[i][1]: x = minmax[i][1]\n",
    "        v.append(x)\n",
    "    return {\"vector\": v}"
   ]
  },
  {
   "cell_type": "code",
   "execution_count": 300,
   "metadata": {
    "collapsed": true
   },
   "outputs": [],
   "source": [
    "def binary_tournament(pop_size, contestants, elites):\n",
    "    new_population = list()\n",
    "    # keep top contestants\n",
    "    contestants.sort(key = lambda c: c[\"fitness\"])\n",
    "    for i in range(elites):\n",
    "        survivor = contestants.pop(0)\n",
    "        new_population.append(survivor)\n",
    "    # select two different contestants\n",
    "    for i in range(pop_size):\n",
    "        c1 = random.randint(0, len(contestants)-1)\n",
    "        c2 = random.randint(0, len(contestants)-1)\n",
    "        while c1 == c2:\n",
    "            c2 = random.randint(0, len(contestants)-1)\n",
    "        # take the better of the two\n",
    "        if contestants[c1][\"fitness\"] < contestants[c2][\"fitness\"]:\n",
    "            survivor = contestants.pop(c1)\n",
    "        else:\n",
    "            survivor = contestants.pop(c2)\n",
    "        new_population.append(survivor)\n",
    "    return new_population"
   ]
  },
  {
   "cell_type": "code",
   "execution_count": 301,
   "metadata": {
    "collapsed": true
   },
   "outputs": [],
   "source": [
    "def initialize_population(pop_size, search_space):\n",
    "    population = list()\n",
    "    for i in range(pop_size):\n",
    "        d = {\"vector\": random_vector(search_space)}\n",
    "        population.append(d)\n",
    "    return population"
   ]
  },
  {
   "cell_type": "code",
   "execution_count": 302,
   "metadata": {
    "collapsed": true
   },
   "outputs": [],
   "source": [
    "def initialize_beliefspace(search_space):\n",
    "    belief_space = {}\n",
    "    belief_space[\"situational\"] = None\n",
    "    belief_space[\"normative\"] = list()\n",
    "    for i in range(len(search_space)):\n",
    "        belief_space[\"normative\"].append(list(search_space[i]))\n",
    "    return belief_space"
   ]
  },
  {
   "cell_type": "code",
   "execution_count": 303,
   "metadata": {
    "collapsed": true
   },
   "outputs": [],
   "source": [
    "def update_beliefspace_situational(belief_space, best):\n",
    "    curr_best = belief_space[\"situational\"]\n",
    "    if curr_best is None or best[\"fitness\"] < curr_best[\"fitness\"]:\n",
    "        belief_space[\"situational\"] = best"
   ]
  },
  {
   "cell_type": "code",
   "execution_count": 304,
   "metadata": {
    "collapsed": true
   },
   "outputs": [],
   "source": [
    "def update_beliefspace_normative(belief_space, acc):\n",
    "    for i in range(len(belief_space[\"normative\"])):\n",
    "        acc_min = min(acc, key = lambda v: v[\"vector\"][i])\n",
    "        belief_space[\"normative\"][i][0] = acc_min[\"vector\"][i]\n",
    "        acc_max = max(acc, key = lambda v: v[\"vector\"][i])\n",
    "        belief_space[\"normative\"][i][1] = acc_max[\"vector\"][i]"
   ]
  },
  {
   "cell_type": "code",
   "execution_count": 305,
   "metadata": {
    "collapsed": true
   },
   "outputs": [],
   "source": [
    "def cultural_search(max_gens, search_space, pop_size, num_accepted, elites):\n",
    "    # initialize\n",
    "    population = initialize_population(pop_size, search_space)\n",
    "    belief_space = initialize_beliefspace(search_space)\n",
    "    fitness_data = list()\n",
    "    \n",
    "    # evaluate\n",
    "    for c in population:\n",
    "        c[\"fitness\"] = objective_function(c[\"vector\"])\n",
    "        \n",
    "    # get current best\n",
    "    best = min(population, key = lambda c: c[\"fitness\"])\n",
    "    \n",
    "    # update situational knowledge\n",
    "    update_beliefspace_situational(belief_space, best)\n",
    "    \n",
    "    # add situational_belief to fitness_data\n",
    "    fitness_data.append(best[\"fitness\"])\n",
    "    \n",
    "    # evolution:\n",
    "    for gen in range(max_gens):\n",
    "        # create new generation\n",
    "        children = list()\n",
    "        for c in range(pop_size):\n",
    "            new_child = mutate_with_inf(population[c], belief_space, search_space)\n",
    "            children.append(new_child)\n",
    "\n",
    "        # evaluate new generation\n",
    "        for c in children:\n",
    "            c[\"fitness\"] = objective_function(c[\"vector\"])\n",
    "        \n",
    "        # survivor selection\n",
    "        population = binary_tournament(pop_size, children + population, elites)\n",
    "        \n",
    "        # get new current best\n",
    "        best = min(population, key = lambda c: c[\"fitness\"])\n",
    "        \n",
    "        # update situational knowledge\n",
    "        update_beliefspace_situational(belief_space, best)\n",
    "        \n",
    "        # add situational_belief to fitness_data\n",
    "        fitness_data.append(best[\"fitness\"])\n",
    "        \n",
    "        # update normative knowledge\n",
    "        population.sort(key = lambda c: c[\"fitness\"])\n",
    "        acccepted = population[:num_accepted]\n",
    "        update_beliefspace_normative(belief_space, acccepted)\n",
    "            \n",
    "    return belief_space[\"situational\"], fitness_data"
   ]
  },
  {
   "cell_type": "code",
   "execution_count": 306,
   "metadata": {
    "collapsed": true
   },
   "outputs": [],
   "source": [
    "def mutate(candidate, solution_space, mutation_rate):\n",
    "    new_vector = list()\n",
    "    for i in range(len(candidate[\"vector\"])):\n",
    "        new_vector.append(candidate[\"vector\"][i])\n",
    "    genes = 1 # random.randint(0, round(len(candidate[\"vector\"]) * mutation_rate))\n",
    "    gene_hist = list()\n",
    "    for i in range(genes):\n",
    "        indx = random.randint(0, len(solution_space)-1)\n",
    "        while indx in gene_hist:\n",
    "            indx = random.randint(0, len(solution_space)-1)\n",
    "        gene_hist.append(indx)\n",
    "        new_vector[indx] = rand_in_bounds(solution_space[indx][0], solution_space[indx][1])\n",
    "    return {\"vector\": new_vector}"
   ]
  },
  {
   "cell_type": "code",
   "execution_count": 307,
   "metadata": {
    "collapsed": true
   },
   "outputs": [],
   "source": [
    "def evolutionary_search(max_gens, search_space, pop_size, elites):\n",
    "    # initialize\n",
    "    population = initialize_population(pop_size, search_space)\n",
    "    fitness_data = list()\n",
    "    \n",
    "    # evaluate\n",
    "    for c in population:\n",
    "        c[\"fitness\"] = objective_function(c[\"vector\"])\n",
    "    \n",
    "    # get current best\n",
    "    best = min(population, key = lambda c: c[\"fitness\"])\n",
    "    \n",
    "    # add best to fitness_data\n",
    "    fitness_data.append(best[\"fitness\"])\n",
    "    \n",
    "    # evolution:\n",
    "    for gen in range(max_gens):\n",
    "        # create new generation\n",
    "        children = list()\n",
    "        for c in range(pop_size):\n",
    "            new_child = mutate(population[c], search_space, 0.5)\n",
    "            children.append(new_child)\n",
    "\n",
    "        # evaluate new generation\n",
    "        for c in children:\n",
    "            c[\"fitness\"] = objective_function(c[\"vector\"])\n",
    "        \n",
    "        # survivor selection\n",
    "        population = binary_tournament(pop_size, children + population, elites)\n",
    "        \n",
    "        # get new current best\n",
    "        best = min(population, key = lambda c: c[\"fitness\"])\n",
    "        \n",
    "        # add best to fitness_data\n",
    "        fitness_data.append(best[\"fitness\"])\n",
    "        \n",
    "    # get new current best\n",
    "    best = min(population, key = lambda c: c[\"fitness\"])\n",
    "    \n",
    "    return best, fitness_data"
   ]
  },
  {
   "cell_type": "code",
   "execution_count": 308,
   "metadata": {
    "collapsed": true
   },
   "outputs": [],
   "source": [
    "def random_search(max_gens, search_space, pop_size, elites):\n",
    "    # initialize\n",
    "    population = initialize_population(pop_size, search_space)\n",
    "    fitness_data = list()\n",
    "    \n",
    "    # evaluate\n",
    "    for c in population:\n",
    "        c[\"fitness\"] = objective_function(c[\"vector\"])\n",
    "    \n",
    "    # get current best\n",
    "    best = min(population, key = lambda c: c[\"fitness\"])\n",
    "    \n",
    "    # add best to fitness_data\n",
    "    fitness_data.append(best[\"fitness\"])\n",
    "    \n",
    "    # evolution:\n",
    "    for gen in range(max_gens):\n",
    "        # create new generation\n",
    "        children = list()\n",
    "        for c in range(pop_size):\n",
    "            new_child = {\"vector\": random_vector(search_space)}\n",
    "            children.append(new_child)\n",
    "\n",
    "        # evaluate new generation\n",
    "        for c in children:\n",
    "            c[\"fitness\"] = objective_function(c[\"vector\"])\n",
    "        \n",
    "        # survivor selection\n",
    "        population = binary_tournament(pop_size, children + population, elites)\n",
    "        \n",
    "        # get new current best\n",
    "        best = min(population, key = lambda c: c[\"fitness\"])\n",
    "        \n",
    "        # add best to fitness_data\n",
    "        fitness_data.append(best[\"fitness\"])\n",
    "        \n",
    "    # get new current best\n",
    "    best = min(population, key = lambda c: c[\"fitness\"])\n",
    "    \n",
    "    return best, fitness_data"
   ]
  },
  {
   "cell_type": "code",
   "execution_count": 309,
   "metadata": {
    "collapsed": true
   },
   "outputs": [],
   "source": [
    "def plot_fitness(data, max_val):\n",
    "    x = list(range(len(data)))\n",
    "    y = data\n",
    "    graph = plt.gca()\n",
    "    graph.set_ylim([0,max_val])\n",
    "    plt.ylabel(\"Fitness\")\n",
    "    plt.xlabel(\"Iteration\")\n",
    "    graph.plot(x, y)\n",
    "    plt.show()"
   ]
  },
  {
   "cell_type": "code",
   "execution_count": 341,
   "metadata": {
    "collapsed": true
   },
   "outputs": [],
   "source": [
    "def plot_compare_self(data_sets, title):\n",
    "    # get max y-val\n",
    "    all_data = list()\n",
    "    for ds in data_sets:\n",
    "        all_data = all_data + ds[\"fitness_data\"]\n",
    "    max_val = max(all_data)\n",
    "    \n",
    "    graph = plt.gca()\n",
    "    graph.set_ylim([0,max_val])\n",
    "    plt.title(title)\n",
    "    plt.ylabel(\"Fitness\")\n",
    "    plt.xlabel(\"Iteration\")\n",
    "    \n",
    "    for i in range(len(data_sets)):\n",
    "        ds = data_sets[i]\n",
    "        trial = \"Trial \" + str(i+1)\n",
    "        print(trial + \" Solution: f= \" + str(ds[\"best\"][\"fitness\"]))\n",
    "        x = list(range(len(ds[\"fitness_data\"])))\n",
    "        y = ds[\"fitness_data\"]\n",
    "        graph.plot(x, y, label=trial)\n",
    "        \n",
    "    plt.legend(bbox_to_anchor=(1.05, 1), loc=2, borderaxespad=0.)\n",
    "    plt.show()"
   ]
  },
  {
   "cell_type": "code",
   "execution_count": 342,
   "metadata": {},
   "outputs": [],
   "source": [
    "def plot_compare_algorithms(data_sets, max_val):\n",
    "    graph = plt.gca()\n",
    "    graph.set_ylim([0,max_val])\n",
    "    plt.ylabel(\"Fitness\")\n",
    "    plt.xlabel(\"Iteration\")\n",
    "\n",
    "    # plot cultural\n",
    "    xc = list(range(len(data_sets[0])))\n",
    "    yc = data_sets[0]\n",
    "    graph.plot(xc, yc, label=\"Cultural\", color=\"green\")\n",
    "    \n",
    "    # plot evolutionary\n",
    "    xe = list(range(len(data_sets[1])))\n",
    "    ye = data_sets[1]\n",
    "    graph.plot(xe, ye, label=\"Evolutionary\", color=\"orange\")\n",
    "    \n",
    "    # plot random\n",
    "    xr = list(range(len(data_sets[2])))\n",
    "    yr = data_sets[2]\n",
    "    graph.plot(xr, yr, label=\"Random\", color=\"red\")\n",
    "    \n",
    "    plt.legend(bbox_to_anchor=(1.05, 1), loc=2, borderaxespad=0.)\n",
    "    plt.show()"
   ]
  },
  {
   "cell_type": "code",
   "execution_count": 351,
   "metadata": {
    "scrolled": false
   },
   "outputs": [
    {
     "name": "stdout",
     "output_type": "stream",
     "text": [
      "Cultural Solution:     f= 3.580429343537928e-38\n",
      "Evolutionary Solution: f= 0.1721735216331355\n",
      "Random Solution:       f= 7.377309611844737\n"
     ]
    },
    {
     "data": {
      "image/png": "[encoded data removed]",
      "text/plain": [
       "<matplotlib.figure.Figure at 0x15153ccc550>"
      ]
     },
     "metadata": {},
     "output_type": "display_data"
    },
    {
     "name": "stdout",
     "output_type": "stream",
     "text": [
      "Trial 1 Solution: f= 2.4943911568805293e-36\n",
      "Trial 2 Solution: f= 3.580429343537928e-38\n",
      "Trial 3 Solution: f= 0.001188397017731802\n",
      "Trial 4 Solution: f= 3.488601310514183e-17\n",
      "Trial 5 Solution: f= 3.2147963747119285e-14\n"
     ]
    },
    {
     "data": {
      "image/png": "[encoded data removed]",
      "text/plain": [
       "<matplotlib.figure.Figure at 0x15152ad0c18>"
      ]
     },
     "metadata": {},
     "output_type": "display_data"
    },
    {
     "name": "stdout",
     "output_type": "stream",
     "text": [
      "Trial 1 Solution: f= 0.1721735216331355\n",
      "Trial 2 Solution: f= 0.659822511991087\n",
      "Trial 3 Solution: f= 0.37609028045177806\n",
      "Trial 4 Solution: f= 0.17508227888589223\n",
      "Trial 5 Solution: f= 0.5051620203423455\n"
     ]
    },
    {
     "data": {
      "image/png": "[encoded data removed]",
      "text/plain": [
       "<matplotlib.figure.Figure at 0x15154009470>"
      ]
     },
     "metadata": {},
     "output_type": "display_data"
    },
    {
     "name": "stdout",
     "output_type": "stream",
     "text": [
      "Trial 1 Solution: f= 13.115121737221106\n",
      "Trial 2 Solution: f= 8.001983476520747\n",
      "Trial 3 Solution: f= 10.15597158295907\n",
      "Trial 4 Solution: f= 7.377309611844737\n",
      "Trial 5 Solution: f= 12.940964065488131\n"
     ]
    },
    {
     "data": {
      "image/png": "[encoded data removed]",
      "text/plain": [
       "<matplotlib.figure.Figure at 0x15154009cc0>"
      ]
     },
     "metadata": {},
     "output_type": "display_data"
    }
   ],
   "source": [
    "if __name__ == \"__main__\":\n",
    "    # problem configuration\n",
    "    problem_size = 10\n",
    "    search_space = create_search_space(problem_size)\n",
    "    \n",
    "    # algorithm configuration\n",
    "    trial_runs = 5\n",
    "    max_gens = 200\n",
    "    pop_size = 100\n",
    "    num_accepted = round(pop_size * 0.20)\n",
    "    elites = 1\n",
    "    \n",
    "    # execute the cultural algorithm\n",
    "    cultural_runs = list()\n",
    "    for i in range(trial_runs):\n",
    "        best, fitness_data = cultural_search(max_gens, search_space, pop_size, num_accepted, elites)\n",
    "        cultural_runs.append({\"best\": best, \"fitness_data\": fitness_data})\n",
    "    c_best_run = min(cultural_runs, key = lambda r: r[\"best\"][\"fitness\"])\n",
    "    c_best = c_best_run[\"best\"]\n",
    "    c_fitness_data = c_best_run[\"fitness_data\"]\n",
    "    c_best_fitness = c_best[\"fitness\"]\n",
    "    c_best_vector = c_best[\"vector\"]\n",
    "    \n",
    "    # execute the evolutionary algorithm\n",
    "    evolutionary_runs = list()\n",
    "    for i in range(trial_runs):\n",
    "        best, fitness_data = evolutionary_search(max_gens, search_space, pop_size, num_accepted, elites)\n",
    "        evolutionary_runs.append({\"best\": best, \"fitness_data\": fitness_data})\n",
    "    e_best_run = min(evolutionary_runs, key = lambda r: r[\"best\"][\"fitness\"])\n",
    "    e_best = e_best_run[\"best\"]\n",
    "    e_fitness_data = e_best_run[\"fitness_data\"]\n",
    "    e_best_fitness = e_best[\"fitness\"]\n",
    "    e_best_vector = e_best[\"vector\"]\n",
    "    \n",
    "    # execute the random algorithm\n",
    "    random_runs = list()\n",
    "    for i in range(trial_runs):\n",
    "        best, fitness_data = random_search(max_gens, search_space, pop_size, num_accepted, elites)\n",
    "        random_runs.append({\"best\": best, \"fitness_data\": fitness_data})\n",
    "    r_best_run = min(random_runs, key = lambda r: r[\"best\"][\"fitness\"])\n",
    "    r_best = r_best_run[\"best\"]\n",
    "    r_fitness_data = r_best_run[\"fitness_data\"]\n",
    "    r_best_fitness = r_best[\"fitness\"]\n",
    "    r_best_vector = r_best[\"vector\"]\n",
    "    \n",
    "    # plot the data\n",
    "    all_vals = c_fitness_data + e_fitness_data + r_fitness_data\n",
    "    max_val = max(all_vals)\n",
    "    \n",
    "    # plot all together\n",
    "    print(\"Cultural Solution:     f= \" + str(c_best_fitness))\n",
    "    print(\"Evolutionary Solution: f= \" + str(e_best_fitness))\n",
    "    print(\"Random Solution:       f= \" + str(r_best_fitness))\n",
    "    all_data_sets = [c_fitness_data, e_fitness_data, r_fitness_data]\n",
    "    plot_fitness_compare(all_data_sets, max_val)\n",
    "    \n",
    "    plot_compare_self(cultural_runs, \"Cultural Algorithm\")\n",
    "    plot_compare_self(evolutionary_runs, \"Evolutionary Algorithm\")\n",
    "    plot_compare_self(random_runs, \"Random Search\")"
   ]
  },
  {
   "cell_type": "code",
   "execution_count": null,
   "metadata": {
    "collapsed": true
   },
   "outputs": [],
   "source": []
  }
 ],
 "metadata": {
  "kernelspec": {
   "display_name": "Python [conda root]",
   "language": "python",
   "name": "conda-root-py"
  },
  "language_info": {
   "codemirror_mode": {
    "name": "ipython",
    "version": 3
   },
   "file_extension": ".py",
   "mimetype": "text/x-python",
   "name": "python",
   "nbconvert_exporter": "python",
   "pygments_lexer": "ipython3",
   "version": "3.5.3"
  }
 },
 "nbformat": 4,
 "nbformat_minor": 2
}
